{
 "cells": [
  {
   "cell_type": "code",
   "execution_count": 29,
   "metadata": {},
   "outputs": [],
   "source": [
    "#Machine Learning Logistic Regression In Python\n",
    "#logistic regression works in machine learning and implement the same to predict stock price movement in Python.\n",
    "#Any machine learning tasks can roughly fall into two categories: 1) The expected outcome is defined, 2) The expected outcome is not defined\n",
    "#The 1st one where the data consists of an input data and the labelled output is called supervised learning. The 2nd one where the datasets consisting of input data without labelled responses is called unsupervised learning. There is also another category called as reinforcement learning that tries to retro-feed the model to improve performance.\n",
    "#Logistic regression falls under the category of supervised learning; it measures the relationship between the categorical dependent variable and one or more independent variables by estimating probabilities using a logistic/sigmoid function\n",
    "#In spite of the name ‘logistic regression’, this is not used for regression problem where the task is to predict the real-valued output.\n",
    "#It is a classification problem which is used to predict a binary outcome (1/0, -1/1, True/False) given a set of independent variables.\n",
    "#Logistic regression is a bit similar to the linear regression or we can say it as a generalized linear model. In linear regression, we predict a real-valued output ‘y’ based on a weighted sum of input variables.\n",
    "#The aim of linear regression is to estimate values for the model coefficients c, w1, w2, w3 ….wn and fit the training data with minimal squared error and predict the output y.\n",
    "#Logistic regression does the same thing, but with one addition. The logistic regression model computes a weighted sum of the input variables similar to the linear regression, but it runs the result through a special non-linear function, the logistic function or sigmoid function to produce the output y. Here, the output is binary or in the form of 0/1 or -1/1.\n",
    "#The sigmoid/logistic function is given by the following equation.\n",
    "#y = 1 / 1+ e-x\n",
    "#Now, let us consider the task of predicting the stock price movement. If tomorrow’s closing price is higher than today’s closing price, then we will buy the stock (1), else we will sell it (-1). If the output is 0.7, then we can say that there is a 70% chance that tomorrow’s closing price is higher than today’s closing price and classify it as 1.\n",
    "#Now, we have a basic intuition behind the logistic regression and the sigmoid function. We will learn how to implement logistic regression in Python and predict the stock price movement using the above condition.\n",
    "\n",
    "# Data Manupulation\n",
    "import numpy as np\n",
    "import pandas as pd\n",
    "\n",
    "# Techinical Indicators\n",
    "import talib as ta\n",
    "\n",
    "# Plotting graphs\n",
    "import matplotlib.pyplot as plt\n",
    "\n",
    "# Machine learning\n",
    "from sklearn.linear_model import LogisticRegression\n",
    "from sklearn import metrics\n",
    "from sklearn.cross_validation import cross_val_score\n",
    "\n",
    "# Data fetching\n",
    "from pandas_datareader import data as pdr\n",
    "from matplotlib.pylab import rcParams\n",
    "rcParams['figure.figsize'] = 15, 6\n",
    "plt.style.use('ggplot')\n",
    "# import fix_yahoo_finance as yf\n",
    "# yf.pdr_override()"
   ]
  },
  {
   "cell_type": "code",
   "execution_count": 30,
   "metadata": {},
   "outputs": [
    {
     "data": {
      "text/html": [
       "<div>\n",
       "<table border=\"1\" class=\"dataframe\">\n",
       "  <thead>\n",
       "    <tr style=\"text-align: right;\">\n",
       "      <th></th>\n",
       "      <th>Open</th>\n",
       "      <th>High</th>\n",
       "      <th>Low</th>\n",
       "      <th>Close</th>\n",
       "    </tr>\n",
       "    <tr>\n",
       "      <th>Date</th>\n",
       "      <th></th>\n",
       "      <th></th>\n",
       "      <th></th>\n",
       "      <th></th>\n",
       "    </tr>\n",
       "  </thead>\n",
       "  <tbody>\n",
       "    <tr>\n",
       "      <th>2018-03-06</th>\n",
       "      <td>94.339996</td>\n",
       "      <td>94.489998</td>\n",
       "      <td>92.940002</td>\n",
       "      <td>93.320000</td>\n",
       "    </tr>\n",
       "    <tr>\n",
       "      <th>2018-03-07</th>\n",
       "      <td>93.160004</td>\n",
       "      <td>93.940002</td>\n",
       "      <td>92.430000</td>\n",
       "      <td>93.860001</td>\n",
       "    </tr>\n",
       "    <tr>\n",
       "      <th>2018-03-08</th>\n",
       "      <td>94.269997</td>\n",
       "      <td>95.099998</td>\n",
       "      <td>93.769997</td>\n",
       "      <td>94.430000</td>\n",
       "    </tr>\n",
       "    <tr>\n",
       "      <th>2018-03-09</th>\n",
       "      <td>95.290001</td>\n",
       "      <td>96.540001</td>\n",
       "      <td>95.000000</td>\n",
       "      <td>96.540001</td>\n",
       "    </tr>\n",
       "    <tr>\n",
       "      <th>2018-03-12</th>\n",
       "      <td>96.500000</td>\n",
       "      <td>97.209999</td>\n",
       "      <td>96.040001</td>\n",
       "      <td>96.769997</td>\n",
       "    </tr>\n",
       "  </tbody>\n",
       "</table>\n",
       "</div>"
      ],
      "text/plain": [
       "                 Open       High        Low      Close\n",
       "Date                                                  \n",
       "2018-03-06  94.339996  94.489998  92.940002  93.320000\n",
       "2018-03-07  93.160004  93.940002  92.430000  93.860001\n",
       "2018-03-08  94.269997  95.099998  93.769997  94.430000\n",
       "2018-03-09  95.290001  96.540001  95.000000  96.540001\n",
       "2018-03-12  96.500000  97.209999  96.040001  96.769997"
      ]
     },
     "execution_count": 30,
     "metadata": {},
     "output_type": "execute_result"
    }
   ],
   "source": [
    "#Import the data\n",
    "#We will import the MSFT data from '1986-03-13' to '2018-03-12'. The data is imported from yahoo finance using ‘pandas_datareader’.\n",
    "df = pdr.get_data_yahoo('MSFT', '1986-03-13', '2018-03-12')\n",
    "df = df.dropna()\n",
    "df = df.iloc[:,:4]\n",
    "df.tail()\n",
    "#Let us print the top five rows of column ‘Open’, ‘High’, ‘Low’, ‘Close’."
   ]
  },
  {
   "cell_type": "code",
   "execution_count": 31,
   "metadata": {},
   "outputs": [],
   "source": [
    "#Define Predictor/Independent Variables\n",
    "#We will use 10-days moving average, correlation, relative strength index (RSI), the difference between the open price of yesterday and today, difference close price of yesterday and open price of today, open, high, low, and close price as indicators to make the prediction.\n",
    "#You can print and check all the predictor variables used to make a prediction.\n",
    "\n",
    "df['S_10'] = df['Close'].rolling(window=10).mean()\n",
    "df['Corr'] = df['Close'].rolling(window=10).corr(df['S_10'])\n",
    "df['RSI'] = ta.RSI(np.array(df['Close']), timeperiod =10)\n",
    "df['Open-Close'] = df['Open'] - df['Close'].shift(1)\n",
    "df['Open-Open'] = df['Open'] - df['Open'].shift(1)\n",
    "df = df.dropna()\n",
    "X = df.iloc[:,:9]"
   ]
  },
  {
   "cell_type": "code",
   "execution_count": 32,
   "metadata": {},
   "outputs": [],
   "source": [
    "#Define Target/Dependent Variable\n",
    "#The dependent variable is same as discussed in the above example. If the tomorrow’s closing price is higher than today’s closing price, then we will buy the stock (1), else we will sell it (-1).\n",
    "\n",
    "y = np.where (df['Close'].shift(-1) > df['Close'],1,-1)"
   ]
  },
  {
   "cell_type": "code",
   "execution_count": 33,
   "metadata": {},
   "outputs": [],
   "source": [
    "#Split The Dataset\n",
    "#We will split the dataset into a training dataset and test dataset. We will use 70% of our data to train and the rest 20% to test.\n",
    "#To do this, we will create a split variable which will divide the data frame in a 70-30 ratio. ‘X_train’ and ‘Y_train’ are the train dataset. ‘X_test’ and ‘Y_test’ are the test dataset.\n",
    "\n",
    "split = int(0.7*len(df))\n",
    "X_train, X_test, y_train, y_test = X[:split], X[split:], y[:split], y[split:]"
   ]
  },
  {
   "cell_type": "code",
   "execution_count": 34,
   "metadata": {},
   "outputs": [],
   "source": [
    "#Instantiate The Logistic Regression\n",
    "#We will instantiate the logistic regression using ‘LogisticRegression’ function and fit the model on the training dataset using ‘fit’ function.\n",
    "\n",
    "model = LogisticRegression()\n",
    "\n",
    "model = model.fit (X_train,y_train)"
   ]
  },
  {
   "cell_type": "code",
   "execution_count": 35,
   "metadata": {},
   "outputs": [
    {
     "data": {
      "text/html": [
       "<div>\n",
       "<table border=\"1\" class=\"dataframe\">\n",
       "  <thead>\n",
       "    <tr style=\"text-align: right;\">\n",
       "      <th></th>\n",
       "      <th>0</th>\n",
       "      <th>1</th>\n",
       "    </tr>\n",
       "  </thead>\n",
       "  <tbody>\n",
       "    <tr>\n",
       "      <th>0</th>\n",
       "      <td>Open</td>\n",
       "      <td>[-0.364423877573]</td>\n",
       "    </tr>\n",
       "    <tr>\n",
       "      <th>1</th>\n",
       "      <td>High</td>\n",
       "      <td>[0.783116513662]</td>\n",
       "    </tr>\n",
       "    <tr>\n",
       "      <th>2</th>\n",
       "      <td>Low</td>\n",
       "      <td>[0.400445648075]</td>\n",
       "    </tr>\n",
       "    <tr>\n",
       "      <th>3</th>\n",
       "      <td>Close</td>\n",
       "      <td>[-0.774656467073]</td>\n",
       "    </tr>\n",
       "    <tr>\n",
       "      <th>4</th>\n",
       "      <td>S_10</td>\n",
       "      <td>[-0.0523398841718]</td>\n",
       "    </tr>\n",
       "    <tr>\n",
       "      <th>5</th>\n",
       "      <td>Corr</td>\n",
       "      <td>[0.0087851535112]</td>\n",
       "    </tr>\n",
       "    <tr>\n",
       "      <th>6</th>\n",
       "      <td>RSI</td>\n",
       "      <td>[0.000398690895865]</td>\n",
       "    </tr>\n",
       "    <tr>\n",
       "      <th>7</th>\n",
       "      <td>Open-Close</td>\n",
       "      <td>[0.191649281853]</td>\n",
       "    </tr>\n",
       "    <tr>\n",
       "      <th>8</th>\n",
       "      <td>Open-Open</td>\n",
       "      <td>[-0.0714338076501]</td>\n",
       "    </tr>\n",
       "  </tbody>\n",
       "</table>\n",
       "</div>"
      ],
      "text/plain": [
       "            0                    1\n",
       "0        Open    [-0.364423877573]\n",
       "1        High     [0.783116513662]\n",
       "2         Low     [0.400445648075]\n",
       "3       Close    [-0.774656467073]\n",
       "4        S_10   [-0.0523398841718]\n",
       "5        Corr    [0.0087851535112]\n",
       "6         RSI  [0.000398690895865]\n",
       "7  Open-Close     [0.191649281853]\n",
       "8   Open-Open   [-0.0714338076501]"
      ]
     },
     "execution_count": 35,
     "metadata": {},
     "output_type": "execute_result"
    }
   ],
   "source": [
    "#Examine The Coefficients\n",
    "pd.DataFrame(zip(X.columns, np.transpose(model.coef_)))"
   ]
  },
  {
   "cell_type": "code",
   "execution_count": 36,
   "metadata": {},
   "outputs": [
    {
     "name": "stdout",
     "output_type": "stream",
     "text": [
      "[[ 0.49172201  0.50827799]\n",
      " [ 0.53851541  0.46148459]\n",
      " [ 0.47523475  0.52476525]\n",
      " ..., \n",
      " [ 0.59406822  0.40593178]\n",
      " [ 0.66358944  0.33641056]\n",
      " [ 0.63293989  0.36706011]]\n"
     ]
    }
   ],
   "source": [
    "#Calculate Class Probabilities\n",
    "#We will calculate the probabilities of the class for the test dataset using ‘predict_proba’ function.\n",
    "probability = model.predict_proba(X_test)\n",
    "\n",
    "print probability"
   ]
  },
  {
   "cell_type": "code",
   "execution_count": 37,
   "metadata": {},
   "outputs": [],
   "source": [
    "#Predict Class Labels\n",
    "#Next, we will predict the class labels using predict function for the test dataset.\n",
    "#If you print ‘predicted’ variable, you will observe that the classifier is predicting 1, when the probability in the second column of variable ‘probability’ is greater than 0.5. \n",
    "#When the probability in the second column is less than 0.5, then the classifier is predicting -1.\n",
    "\n",
    "predicted = model.predict(X_test)"
   ]
  },
  {
   "cell_type": "code",
   "execution_count": 38,
   "metadata": {},
   "outputs": [
    {
     "name": "stdout",
     "output_type": "stream",
     "text": [
      "[[1002  186]\n",
      " [1001  226]]\n"
     ]
    }
   ],
   "source": [
    "#Evaluate The Model\n",
    "#Confusion Matrix\n",
    "#The Confusion matrix is used to describe the performance of classification model on a set of test dataset for which the true values are known. We will calculate the confusion matrix using ‘confusion_matrix’ function.\n",
    "\n",
    "print metrics.confusion_matrix(y_test, predicted)"
   ]
  },
  {
   "cell_type": "code",
   "execution_count": 39,
   "metadata": {},
   "outputs": [
    {
     "name": "stdout",
     "output_type": "stream",
     "text": [
      "             precision    recall  f1-score   support\n",
      "\n",
      "         -1       0.50      0.84      0.63      1188\n",
      "          1       0.55      0.18      0.28      1227\n",
      "\n",
      "avg / total       0.52      0.51      0.45      2415\n",
      "\n"
     ]
    }
   ],
   "source": [
    "#Classification Report\n",
    "#This is another method to examine the performance of classification model.\n",
    "#The f1-score tells you the accuracy of the classifier in classifying the data points in that particular class compared to all other class. It is calculated by taking the harmonic mean of precision and recall. The support is the number of samples of the true response that lies in that class.\n",
    "\n",
    "print metrics.classification_report(y_test, predicted)"
   ]
  },
  {
   "cell_type": "code",
   "execution_count": 40,
   "metadata": {},
   "outputs": [
    {
     "name": "stdout",
     "output_type": "stream",
     "text": [
      "0.508488612836\n"
     ]
    }
   ],
   "source": [
    "#Model Accuracy\n",
    "#We will calculate the model accuracy on the test dataset using ‘score’ function.\n",
    "#We can see the accuracy of 50%.\n",
    "\n",
    "print model.score(X_test,y_test)"
   ]
  },
  {
   "cell_type": "code",
   "execution_count": 41,
   "metadata": {},
   "outputs": [
    {
     "name": "stdout",
     "output_type": "stream",
     "text": [
      "[ 0.50496278  0.50992556  0.49068323  0.54534161  0.53043478  0.59627329\n",
      "  0.49875622  0.52860697  0.50124378  0.52860697]\n",
      "0.523483518707\n"
     ]
    }
   ],
   "source": [
    "#Cross-Validation\n",
    "#We will cross check the accuracy of the model using 10-fold cross-validation. For this, we will use ‘cross_val_score’ function which we have imported from ‘sklearn.cross_validation’ library.\n",
    "#The accuracy is still 50% which means the model is working fine.\n",
    "\n",
    "cross_val = cross_val_score(LogisticRegression(), X, y, scoring='accuracy', cv=10)\n",
    "\n",
    "print cross_val\n",
    "\n",
    "print cross_val.mean()"
   ]
  },
  {
   "cell_type": "code",
   "execution_count": 42,
   "metadata": {},
   "outputs": [
    {
     "data": {
      "image/png": "[encoded data removed]",
      "text/plain": [
       "<matplotlib.figure.Figure at 0x67767f0>"
      ]
     },
     "metadata": {},
     "output_type": "display_data"
    }
   ],
   "source": [
    "#Create Trading Strategy Using The Model\n",
    "#We will predict the signal to buy (1) or sell (-1) and calculate the cumulative MSFT returns for test dataset. \n",
    "#Next, we will calculate the cumulative strategy return based on the signal predicted by the model in the test dataset. We will also plot the cumulative returns.\n",
    "df['Predicted_Signal'] = model.predict(X)\n",
    "df['MSFT_returns'] = np.log(df['Close']/df['Close'].shift(1))\n",
    "Cumulative_MSFT_returns = np.cumsum(df[split:]['MSFT_returns'])\n",
    "df['Startegy_returns'] = df['MSFT_returns']* df['Predicted_Signal'].shift(1)\n",
    "Cumulative_Strategy_returns = np.cumsum(df[split:]['Startegy_returns'])\n",
    "plt.figure(figsize=(10,5))\n",
    "plt.plot(Cumulative_MSFT_returns, color='r',label = 'MSFT Returns')\n",
    "plt.plot(Cumulative_Strategy_returns, color='g', label = 'Strategy Returns')\n",
    "plt.legend()\n",
    "plt.show()\n",
    "#It can be observed that the Logistic Regression model predict the classes with an accuracy of approximately 50% and generates good returns."
   ]
  },
  {
   "cell_type": "code",
   "execution_count": null,
   "metadata": {},
   "outputs": [],
   "source": [
    "#https://www.quantinsti.com/blog/machine-learning-logistic-regression-python/\n",
    "#https://www.quora.com/Which-regression-model-is-best-for-predicting-forecasting-stock-prices\n",
    "    "
   ]
  }
 ],
 "metadata": {
  "kernelspec": {
   "display_name": "Python 2",
   "language": "python",
   "name": "python2"
  },
  "language_info": {
   "codemirror_mode": {
    "name": "ipython",
    "version": 2
   },
   "file_extension": ".py",
   "mimetype": "text/x-python",
   "name": "python",
   "nbconvert_exporter": "python",
   "pygments_lexer": "ipython2",
   "version": "2.7.14"
  }
 },
 "nbformat": 4,
 "nbformat_minor": 2
}
